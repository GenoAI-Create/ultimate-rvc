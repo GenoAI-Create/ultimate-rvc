{
  "cells": [
    {
      "cell_type": "markdown",
      "metadata": {
        "id": "kmyCzJVyCymN"
      },
      "source": [
        "An unofficial fork of [Ultimate RVC Colab](https://colab.research.google.com/github/JackismyShephard/ultimate-rvc/blob/main/notebooks/ultimate_rvc_colab.ipynb) (Alpha access).<br>Check [README]() for more.\n",
        "\n",
        "---\n",
        "\n",
        "Colab for [Ultimate RVC](https://github.com/JackismyShephard/ultimate-rvc)\n",
        "\n",
        "This Colab notebook will **help** you if you don’t have a GPU or if your PC isn’t very powerful.\n",
        "\n",
        "Simply click `Runtime` in the top navigation bar and `Run all`. Wait for the output of the final cell to show the public gradio url and click on it.\n",
        "\n",
        "NOTE: If Ultimate RVC is running too slowly with the default sharing method (gradio), consider instead selecting \"ngrok\" as sharing method.\n",
        "This method requires supplying an access token, which you can find on [ngrok](https://ngrok.com/) after creating a personal account.\n",
        "The ngrok link output in the final cell will lead you to a new site which will redirect you to Ultimate RVC."
      ]
    },
    {
      "cell_type": "markdown",
      "source": [
        "## Ultimate RVC Installation"
      ],
      "metadata": {
        "id": "NrdnC8SV4Jok"
      }
    },
    {
      "cell_type": "code",
      "execution_count": null,
      "metadata": {
        "id": "KmY5IB2mfwOK",
        "cellView": "form",
        "outputId": "5d0d5635-2ba7-4f9b-b0d0-abd34dd742ac",
        "colab": {
          "base_uri": "https://localhost:8080/"
        }
      },
      "outputs": [
        {
          "output_type": "stream",
          "name": "stdout",
          "text": [
            "time: 90.4 ms (started: 2025-09-16 16:28:36 +00:00)\n"
          ]
        }
      ],
      "source": [
        "# @title 0: Initialize notebook\n",
        "%pip install ipython-autotime pyngrok\n",
        "%load_ext autotime\n",
        "\n",
        "import codecs\n",
        "import os\n",
        "import time\n",
        "from pathlib import Path\n",
        "from urllib import request\n",
        "\n",
        "import ipywidgets as widgets\n",
        "from IPython.display import clear_output\n",
        "from IPython.display import display as i_display\n",
        "from pyngrok import ngrok\n",
        "\n",
        "clear_output()"
      ]
    },
    {
      "cell_type": "code",
      "execution_count": null,
      "metadata": {
        "id": "aaokDv1VzpAX",
        "outputId": "9ba51e18-a8dc-4274-fc87-b76cf8721d6a",
        "colab": {
          "base_uri": "https://localhost:8080/"
        }
      },
      "outputs": [
        {
          "output_type": "stream",
          "name": "stdout",
          "text": [
            "time: 1.92 s (started: 2025-09-16 16:28:36 +00:00)\n"
          ]
        }
      ],
      "source": [
        "# @title 1: Clone repository\n",
        "\n",
        "cloneing = codecs.decode(\n",
        "    \"uggcf://tvguho.pbz/TrabNV-Perngr/hygvzngr-eip.tvg\",\n",
        "    \"rot_13\",\n",
        ")\n",
        "\n",
        "branch = \"develop\" #@param type=list value=[\"main\", \"develop\"]\n",
        "#@markdown Branch to clone<br>`develop` contains very lastest modifications/functionalities, but can be unstable. Prefer choosing `main`  for regular use.\n",
        "\n",
        "print(\"Clonning branch: \"+branch)\n",
        "\n",
        "!git clone --branch $branch --single-branch $cloneing HRVC\n",
        "%cd /content/HRVC\n"
      ]
    },
    {
      "cell_type": "code",
      "execution_count": null,
      "metadata": {
        "cellView": "form",
        "id": "lVGNygIa0F_1",
        "outputId": "29cc7d01-079c-4605-8f0d-2f4ab97e0248",
        "colab": {
          "base_uri": "https://localhost:8080/"
        }
      },
      "outputs": [
        {
          "output_type": "stream",
          "name": "stdout",
          "text": [
            "Reading package lists... Done\n",
            "Building dependency tree... Done\n",
            "Reading state information... Done\n",
            "python3-dev is already the newest version (3.10.6-1~22.04.1).\n",
            "python3-dev set to manually installed.\n",
            "unzip is already the newest version (6.0-26ubuntu3.2).\n",
            "0 upgraded, 0 newly installed, 0 to remove and 35 not upgraded.\n",
            "downloading uv 0.6.3 x86_64-unknown-linux-gnu\n",
            "no checksums to verify\n",
            "installing to /usr/local/bin\n",
            "  uv\n",
            "  uvx\n",
            "everything's installed!\n"
          ]
        }
      ],
      "source": [
        "# @title 2: Install dependencies\n",
        "\n",
        "light = codecs.decode(\"uggcf://nfgeny.fu/hi/0.6.3/vafgnyy.fu\", \"rot_13\")\n",
        "inits = codecs.decode(\"./fep/hygvzngr_eip/pber/znva.cl\", \"rot_13\")\n",
        "prerelease = \"--prerelease if-necessary-or-explicit\"\n",
        "\n",
        "!apt install -y python3-dev unzip\n",
        "!curl -LsSf $light | sh\n",
        "\n",
        "os.environ[\"URVC_CONSOLE_LOG_LEVEL\"] = \"WARNING\"\n",
        "!uv run -q $prerelease $inits\n",
        "!uv add $prerelease matplotlib-inline==0.1.7\n",
        "clear_output()"
      ]
    },
    {
      "cell_type": "markdown",
      "source": [
        "## Ultimate RVC Launch"
      ],
      "metadata": {
        "id": "wS1l2a8r4Nw9"
      }
    },
    {
      "cell_type": "code",
      "execution_count": null,
      "metadata": {
        "cellView": "form",
        "id": "lVGNygIa0F_2"
      },
      "outputs": [],
      "source": [
        "# @title 3: Run Ultimate RVC\n",
        "# @markdown  #### Choose a sharing method:\n",
        "\n",
        "method = \"gradio\"  # @param [\"gradio\",  \"ngrok\", \"cloudflared\",\"localtunnel\"]\n",
        "ngrok_token = \"\"  # @param {type:\"string\"}\n",
        "runpice = codecs.decode(\"./fep/hygvzngr_eip/jro/znva.cl\", \"rot_13\")\n",
        "\n",
        "if method == \"gradio\":\n",
        "    !uv run $prerelease $runpice --share\n",
        "elif method == \"ngrok\":\n",
        "    try:\n",
        "        ngrok.set_auth_token(ngrok_token)\n",
        "        ngrok.kill()\n",
        "        tunnel = ngrok.connect(6969)\n",
        "        print(f\"Ngrok URL: {tunnel.public_url}\")\n",
        "        !uv run $prerelease $runpice --listen-port 6969\n",
        "    except Exception as e:  # noqa: BLE001\n",
        "        print(f\"Error starting ngrok: {e}\")\n",
        "elif method == \"cloudflared\":\n",
        "    !curl -LO https://github.com/cloudflare/cloudflared/releases/latest/download/cloudflared-linux-amd64.deb\n",
        "    !dpkg -i cloudflared-linux-amd64.deb\n",
        "    clear_output()\n",
        "    !rm -rf nohup.out\n",
        "    !nohup cloudflared tunnel --url localhost:6969 &\n",
        "    clear_output()\n",
        "    time.sleep(10)\n",
        "    cloudflare_url = !grep -oE \"https://[a-zA-Z0-9.-]+\\.trycloudflare\\.com\" nohup.out\n",
        "    print(f\"URVC Public URL: {cloudflare_url}\")\n",
        "    !uv run $prerelease $runpice --listen-port 6969\n",
        "elif method == \"localtunnel\":\n",
        "    !npm install -g localtunnel &>/dev/null\n",
        "    Path(\"url.txt\").open(\"w\", encoding=\"utf-8\").close()\n",
        "    !lt --port 6969 >> url.txt 2>&1 &\n",
        "    time.sleep(2)\n",
        "    endpoint_ip = (\n",
        "        request.urlopen(\"https://ipv4.icanhazip.com\").read().decode(\"utf8\").strip(\"\\n\")\n",
        "    )\n",
        "    tunnel_url = (\n",
        "        Path(\"url.txt\").read_text(encoding=\"utf-8\").replace(\"your url is: \", \"\")\n",
        "    )\n",
        "    print(f\"Share Link: {tunnel_url}\")\n",
        "    password_endpoint_widget = widgets.Text(\n",
        "        value=endpoint_ip,\n",
        "        description=\"Password IP:\",\n",
        "        disabled=True,\n",
        "    )\n",
        "    i_display(password_endpoint_widget)\n",
        "    !uv run $prerelease $runpice --listen-port 6969"
      ]
    }
  ],
  "metadata": {
    "accelerator": "GPU",
    "colab": {
      "gpuType": "T4",
      "provenance": []
    },
    "kernelspec": {
      "display_name": "Python 3",
      "name": "python3"
    },
    "language_info": {
      "name": "python"
    }
  },
  "nbformat": 4,
  "nbformat_minor": 0
}